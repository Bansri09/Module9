{
 "cells": [
  {
   "cell_type": "code",
   "execution_count": 3,
   "metadata": {},
   "outputs": [
    {
     "name": "stdout",
     "output_type": "stream",
     "text": [
      "Requirement already satisfied: census in c:\\users\\bansr\\anaconda3\\envs\\dev\\lib\\site-packages (0.8.22)\n",
      "Requirement already satisfied: requests>=1.1.0 in c:\\users\\bansr\\anaconda3\\envs\\dev\\lib\\site-packages (from census) (2.32.3)\n",
      "Requirement already satisfied: charset-normalizer<4,>=2 in c:\\users\\bansr\\anaconda3\\envs\\dev\\lib\\site-packages (from requests>=1.1.0->census) (3.3.2)\n",
      "Requirement already satisfied: idna<4,>=2.5 in c:\\users\\bansr\\anaconda3\\envs\\dev\\lib\\site-packages (from requests>=1.1.0->census) (3.7)\n",
      "Requirement already satisfied: urllib3<3,>=1.21.1 in c:\\users\\bansr\\anaconda3\\envs\\dev\\lib\\site-packages (from requests>=1.1.0->census) (2.2.3)\n",
      "Requirement already satisfied: certifi>=2017.4.17 in c:\\users\\bansr\\anaconda3\\envs\\dev\\lib\\site-packages (from requests>=1.1.0->census) (2024.8.30)\n"
     ]
    }
   ],
   "source": [
    "!pip install census\n",
    "\n",
    "import requests\n",
    "import pandas as pd\n",
    "from census import Census\n",
    "from api_keys import census_api_key"
   ]
  },
  {
   "cell_type": "code",
   "execution_count": null,
   "metadata": {},
   "outputs": [
    {
     "name": "stdout",
     "output_type": "stream",
     "text": [
      "Error: Unable to fetch data. Status code: 403\n"
     ]
    }
   ],
   "source": [
    "\n",
    "# Initialize the Census object\n",
    "c = Census(census_api_key)\n",
    "\n",
    "years = range(2005, 2023)  \n",
    "\n",
    "all_data = []\n",
    "\n",
    "for year in years:\n",
    "    data = c.acs5.get(\n",
    "        ('NAME',\n",
    "        'B19013_001E',\n",
    "        'B15003_022E'\n",
    "        ),\n",
    "    {'for':'county:*'},\n",
    "    )\n",
    "\n",
    "    for row in data:\n",
    "        row['Year'] = year\n",
    "    all_data.extend(data)\n",
    "\n",
    "data_df = pd.DataFrame(all_data)\n",
    "\n",
    "data_df = data_df.rename(columns={\n",
    "    'Name':'County Name',\n",
    "    'state' : 'State FIPS',\n",
    "    'county' : 'County FIPS',\n",
    "    'B19013_001E' : 'Median Household Income',\n",
    "    'B15003_022E' : 'Population with Bacholer\\'s Degree'\n",
    "})\n",
    "data_df.columns\n",
    "\n",
    "data_df.tail()\n",
    "\n",
    "##################################################################################\n",
    "\n",
    "\n",
    "\n",
    "# # Define the API endpoint URL and your API key\n",
    "# base_url = \"https://api.cde.ucr.cjis.gov/crime-data-api/v1/offenses/county?\"\n",
    "# api_key = \"5MvSyg4BL9Wf0zNITtt2449INBEVJisWGhby1RgU\"  # Replace this with your actual API key\n",
    "\n",
    "# # Specify the state and county codes\n",
    "# state_code = \"06\"  # California (as an example)\n",
    "# county_code = \"075\"  # Los Angeles County (as an example)\n",
    "\n",
    "# # Construct the URL\n",
    "# url = f\"{base_url}/{state_code}/{county_code}?apiKey={api_key}\"\n",
    "\n",
    "# # Send the GET request\n",
    "# response = requests.get(url)\n",
    "\n",
    "# # Check if the request was successful\n",
    "# if response.status_code == 200:\n",
    "#     crime_data = response.json()  # Parse the JSON response\n",
    "#     print(json.dumps(crime_data, indent=4))  # Print formatted data\n",
    "# else:\n",
    "#     print(f\"Error: Unable to fetch data. Status code: {response.status_code}\")\n",
    "\n",
    "\n",
    "base_url = \"https://cde.ucr.cjis.gov/crime-data-api/v1/offenses/county\"\n",
    "api_key = \"5MvSyg4BL9Wf0zNITtt2449INBEVJisWGhby1RgU\"  # Replace this with your actual API key\n",
    "\n",
    "# Specify the state and county codes\n",
    "state_code = \"06\"  # California (as an example)\n",
    "county_code = \"075\"  # Los Angeles County (as an example)\n",
    "\n",
    "# Construct the URL\n",
    "url = f\"{base_url}/{state_code}/{county_code}?apiKey={api_key}\"\n",
    "\n",
    "headers = {\n",
    "    'Authorization': f'Bearer {api_key}'\n",
    "}\n",
    "\n",
    "response = requests.get(url, headers=headers)\n",
    "\n",
    "# Send the GET request\n",
    "#response = requests.get(url)\n",
    "\n",
    "#print(response)\n",
    "# Check if the request was successful\n",
    "if response.status_code == 200:\n",
    "    crime_data = response.json()  # Parse the JSON response\n",
    "    print(json.dumps(crime_data, indent=4))  # Print formatted data\n",
    "else:\n",
    "    print(f\"Error: Unable to fetch data. Status code: {response.status_code}\")\n",
    "\n",
    "\n"
   ]
  }
 ],
 "metadata": {
  "kernelspec": {
   "display_name": "dev",
   "language": "python",
   "name": "python3"
  },
  "language_info": {
   "codemirror_mode": {
    "name": "ipython",
    "version": 3
   },
   "file_extension": ".py",
   "mimetype": "text/x-python",
   "name": "python",
   "nbconvert_exporter": "python",
   "pygments_lexer": "ipython3",
   "version": "3.10.15"
  }
 },
 "nbformat": 4,
 "nbformat_minor": 2
}
